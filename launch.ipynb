{
  "nbformat": 4,
  "nbformat_minor": 0,
  "metadata": {
    "colab": {
      "name": "launch.ipynb",
      "provenance": [],
      "machine_shape": "hm",
      "authorship_tag": "ABX9TyPtmhsc71GZZvmpiYoG92hi",
      "include_colab_link": true
    },
    "kernelspec": {
      "name": "python3",
      "display_name": "Python 3"
    },
    "language_info": {
      "name": "python"
    },
    "accelerator": "GPU",
    "widgets": {
      "application/vnd.jupyter.widget-state+json": {
        "5c26dfd028684d28808335fe849244e1": {
          "model_module": "@jupyter-widgets/controls",
          "model_name": "VBoxModel",
          "model_module_version": "1.5.0",
          "state": {
            "_dom_classes": [],
            "_model_module": "@jupyter-widgets/controls",
            "_model_module_version": "1.5.0",
            "_model_name": "VBoxModel",
            "_view_count": null,
            "_view_module": "@jupyter-widgets/controls",
            "_view_module_version": "1.5.0",
            "_view_name": "VBoxView",
            "box_style": "",
            "children": [
              "IPY_MODEL_ed665b32ac8846da92c9ebc1cf42f926",
              "IPY_MODEL_ee601e0100a7444b8abdaef091e9707f",
              "IPY_MODEL_05d543cafb124ded84dd2caa49841a61",
              "IPY_MODEL_61f03da9598a4261bbde00d3654e0765",
              "IPY_MODEL_da8db27f6ad2420697134621b631ee23"
            ],
            "layout": "IPY_MODEL_a7c5fe86ef994a559185dcd866118298"
          }
        },
        "ed665b32ac8846da92c9ebc1cf42f926": {
          "model_module": "@jupyter-widgets/controls",
          "model_name": "LabelModel",
          "model_module_version": "1.5.0",
          "state": {
            "_dom_classes": [],
            "_model_module": "@jupyter-widgets/controls",
            "_model_module_version": "1.5.0",
            "_model_name": "LabelModel",
            "_view_count": null,
            "_view_module": "@jupyter-widgets/controls",
            "_view_module_version": "1.5.0",
            "_view_name": "LabelView",
            "description": "",
            "description_tooltip": null,
            "layout": "IPY_MODEL_0db0feabe41f45c7850950e79d426430",
            "placeholder": "​",
            "style": "IPY_MODEL_248448e43af14f1a952b8118a78548aa",
            "value": "Select Hand Sign"
          }
        },
        "ee601e0100a7444b8abdaef091e9707f": {
          "model_module": "@jupyter-widgets/controls",
          "model_name": "FileUploadModel",
          "model_module_version": "1.5.0",
          "state": {
            "_counter": 3,
            "_dom_classes": [],
            "_model_module": "@jupyter-widgets/controls",
            "_model_module_version": "1.5.0",
            "_model_name": "FileUploadModel",
            "_view_count": null,
            "_view_module": "@jupyter-widgets/controls",
            "_view_module_version": "1.5.0",
            "_view_name": "FileUploadView",
            "accept": "",
            "button_style": "",
            "data": [
              null
            ],
            "description": "Upload",
            "description_tooltip": null,
            "disabled": false,
            "error": "",
            "icon": "upload",
            "layout": "IPY_MODEL_c180713f51a043caab21401cccbb8d49",
            "metadata": [
              {
                "name": "WIN_20220331_18_07_15_Pro.jpg",
                "type": "image/jpeg",
                "size": 1181194,
                "lastModified": 1648764436233
              }
            ],
            "multiple": false,
            "style": "IPY_MODEL_a803681227494346b41915633fd058dd"
          }
        },
        "05d543cafb124ded84dd2caa49841a61": {
          "model_module": "@jupyter-widgets/controls",
          "model_name": "ButtonModel",
          "model_module_version": "1.5.0",
          "state": {
            "_dom_classes": [],
            "_model_module": "@jupyter-widgets/controls",
            "_model_module_version": "1.5.0",
            "_model_name": "ButtonModel",
            "_view_count": null,
            "_view_module": "@jupyter-widgets/controls",
            "_view_module_version": "1.5.0",
            "_view_name": "ButtonView",
            "button_style": "",
            "description": "Classify",
            "disabled": false,
            "icon": "",
            "layout": "IPY_MODEL_d266f582b8774f61a411975c5d815d84",
            "style": "IPY_MODEL_452f871960de454692b4939945ea6780",
            "tooltip": ""
          }
        },
        "61f03da9598a4261bbde00d3654e0765": {
          "model_module": "@jupyter-widgets/output",
          "model_name": "OutputModel",
          "model_module_version": "1.0.0",
          "state": {
            "_dom_classes": [],
            "_model_module": "@jupyter-widgets/output",
            "_model_module_version": "1.0.0",
            "_model_name": "OutputModel",
            "_view_count": null,
            "_view_module": "@jupyter-widgets/output",
            "_view_module_version": "1.0.0",
            "_view_name": "OutputView",
            "layout": "IPY_MODEL_abc530dcfdde48c5acbdc32b81802ad2",
            "msg_id": "",
            "outputs": [
              {
                "output_type": "display_data",
                "data": {
                  "text/plain": "<PIL.Image.Image image mode=RGB size=128x72 at 0x7F06D6600310>",
                  "image/png": "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\n"
                },
                "metadata": {}
              }
            ]
          }
        },
        "da8db27f6ad2420697134621b631ee23": {
          "model_module": "@jupyter-widgets/controls",
          "model_name": "LabelModel",
          "model_module_version": "1.5.0",
          "state": {
            "_dom_classes": [],
            "_model_module": "@jupyter-widgets/controls",
            "_model_module_version": "1.5.0",
            "_model_name": "LabelModel",
            "_view_count": null,
            "_view_module": "@jupyter-widgets/controls",
            "_view_module_version": "1.5.0",
            "_view_name": "LabelView",
            "description": "",
            "description_tooltip": null,
            "layout": "IPY_MODEL_407a7bc0ec3e4ff6aa30a6bde965b98c",
            "placeholder": "​",
            "style": "IPY_MODEL_cb9993a1d4eb434dbe6d879d3943acec",
            "value": "prediction= B; Probability: 0.9928"
          }
        },
        "a7c5fe86ef994a559185dcd866118298": {
          "model_module": "@jupyter-widgets/base",
          "model_name": "LayoutModel",
          "model_module_version": "1.2.0",
          "state": {
            "_model_module": "@jupyter-widgets/base",
            "_model_module_version": "1.2.0",
            "_model_name": "LayoutModel",
            "_view_count": null,
            "_view_module": "@jupyter-widgets/base",
            "_view_module_version": "1.2.0",
            "_view_name": "LayoutView",
            "align_content": null,
            "align_items": null,
            "align_self": null,
            "border": null,
            "bottom": null,
            "display": null,
            "flex": null,
            "flex_flow": null,
            "grid_area": null,
            "grid_auto_columns": null,
            "grid_auto_flow": null,
            "grid_auto_rows": null,
            "grid_column": null,
            "grid_gap": null,
            "grid_row": null,
            "grid_template_areas": null,
            "grid_template_columns": null,
            "grid_template_rows": null,
            "height": null,
            "justify_content": null,
            "justify_items": null,
            "left": null,
            "margin": null,
            "max_height": null,
            "max_width": null,
            "min_height": null,
            "min_width": null,
            "object_fit": null,
            "object_position": null,
            "order": null,
            "overflow": null,
            "overflow_x": null,
            "overflow_y": null,
            "padding": null,
            "right": null,
            "top": null,
            "visibility": null,
            "width": null
          }
        },
        "0db0feabe41f45c7850950e79d426430": {
          "model_module": "@jupyter-widgets/base",
          "model_name": "LayoutModel",
          "model_module_version": "1.2.0",
          "state": {
            "_model_module": "@jupyter-widgets/base",
            "_model_module_version": "1.2.0",
            "_model_name": "LayoutModel",
            "_view_count": null,
            "_view_module": "@jupyter-widgets/base",
            "_view_module_version": "1.2.0",
            "_view_name": "LayoutView",
            "align_content": null,
            "align_items": null,
            "align_self": null,
            "border": null,
            "bottom": null,
            "display": null,
            "flex": null,
            "flex_flow": null,
            "grid_area": null,
            "grid_auto_columns": null,
            "grid_auto_flow": null,
            "grid_auto_rows": null,
            "grid_column": null,
            "grid_gap": null,
            "grid_row": null,
            "grid_template_areas": null,
            "grid_template_columns": null,
            "grid_template_rows": null,
            "height": null,
            "justify_content": null,
            "justify_items": null,
            "left": null,
            "margin": null,
            "max_height": null,
            "max_width": null,
            "min_height": null,
            "min_width": null,
            "object_fit": null,
            "object_position": null,
            "order": null,
            "overflow": null,
            "overflow_x": null,
            "overflow_y": null,
            "padding": null,
            "right": null,
            "top": null,
            "visibility": null,
            "width": null
          }
        },
        "248448e43af14f1a952b8118a78548aa": {
          "model_module": "@jupyter-widgets/controls",
          "model_name": "DescriptionStyleModel",
          "model_module_version": "1.5.0",
          "state": {
            "_model_module": "@jupyter-widgets/controls",
            "_model_module_version": "1.5.0",
            "_model_name": "DescriptionStyleModel",
            "_view_count": null,
            "_view_module": "@jupyter-widgets/base",
            "_view_module_version": "1.2.0",
            "_view_name": "StyleView",
            "description_width": ""
          }
        },
        "c180713f51a043caab21401cccbb8d49": {
          "model_module": "@jupyter-widgets/base",
          "model_name": "LayoutModel",
          "model_module_version": "1.2.0",
          "state": {
            "_model_module": "@jupyter-widgets/base",
            "_model_module_version": "1.2.0",
            "_model_name": "LayoutModel",
            "_view_count": null,
            "_view_module": "@jupyter-widgets/base",
            "_view_module_version": "1.2.0",
            "_view_name": "LayoutView",
            "align_content": null,
            "align_items": null,
            "align_self": null,
            "border": null,
            "bottom": null,
            "display": null,
            "flex": null,
            "flex_flow": null,
            "grid_area": null,
            "grid_auto_columns": null,
            "grid_auto_flow": null,
            "grid_auto_rows": null,
            "grid_column": null,
            "grid_gap": null,
            "grid_row": null,
            "grid_template_areas": null,
            "grid_template_columns": null,
            "grid_template_rows": null,
            "height": null,
            "justify_content": null,
            "justify_items": null,
            "left": null,
            "margin": null,
            "max_height": null,
            "max_width": null,
            "min_height": null,
            "min_width": null,
            "object_fit": null,
            "object_position": null,
            "order": null,
            "overflow": null,
            "overflow_x": null,
            "overflow_y": null,
            "padding": null,
            "right": null,
            "top": null,
            "visibility": null,
            "width": null
          }
        },
        "a803681227494346b41915633fd058dd": {
          "model_module": "@jupyter-widgets/controls",
          "model_name": "ButtonStyleModel",
          "model_module_version": "1.5.0",
          "state": {
            "_model_module": "@jupyter-widgets/controls",
            "_model_module_version": "1.5.0",
            "_model_name": "ButtonStyleModel",
            "_view_count": null,
            "_view_module": "@jupyter-widgets/base",
            "_view_module_version": "1.2.0",
            "_view_name": "StyleView",
            "button_color": null,
            "font_weight": ""
          }
        },
        "d266f582b8774f61a411975c5d815d84": {
          "model_module": "@jupyter-widgets/base",
          "model_name": "LayoutModel",
          "model_module_version": "1.2.0",
          "state": {
            "_model_module": "@jupyter-widgets/base",
            "_model_module_version": "1.2.0",
            "_model_name": "LayoutModel",
            "_view_count": null,
            "_view_module": "@jupyter-widgets/base",
            "_view_module_version": "1.2.0",
            "_view_name": "LayoutView",
            "align_content": null,
            "align_items": null,
            "align_self": null,
            "border": null,
            "bottom": null,
            "display": null,
            "flex": null,
            "flex_flow": null,
            "grid_area": null,
            "grid_auto_columns": null,
            "grid_auto_flow": null,
            "grid_auto_rows": null,
            "grid_column": null,
            "grid_gap": null,
            "grid_row": null,
            "grid_template_areas": null,
            "grid_template_columns": null,
            "grid_template_rows": null,
            "height": null,
            "justify_content": null,
            "justify_items": null,
            "left": null,
            "margin": null,
            "max_height": null,
            "max_width": null,
            "min_height": null,
            "min_width": null,
            "object_fit": null,
            "object_position": null,
            "order": null,
            "overflow": null,
            "overflow_x": null,
            "overflow_y": null,
            "padding": null,
            "right": null,
            "top": null,
            "visibility": null,
            "width": null
          }
        },
        "452f871960de454692b4939945ea6780": {
          "model_module": "@jupyter-widgets/controls",
          "model_name": "ButtonStyleModel",
          "model_module_version": "1.5.0",
          "state": {
            "_model_module": "@jupyter-widgets/controls",
            "_model_module_version": "1.5.0",
            "_model_name": "ButtonStyleModel",
            "_view_count": null,
            "_view_module": "@jupyter-widgets/base",
            "_view_module_version": "1.2.0",
            "_view_name": "StyleView",
            "button_color": null,
            "font_weight": ""
          }
        },
        "407a7bc0ec3e4ff6aa30a6bde965b98c": {
          "model_module": "@jupyter-widgets/base",
          "model_name": "LayoutModel",
          "model_module_version": "1.2.0",
          "state": {
            "_model_module": "@jupyter-widgets/base",
            "_model_module_version": "1.2.0",
            "_model_name": "LayoutModel",
            "_view_count": null,
            "_view_module": "@jupyter-widgets/base",
            "_view_module_version": "1.2.0",
            "_view_name": "LayoutView",
            "align_content": null,
            "align_items": null,
            "align_self": null,
            "border": null,
            "bottom": null,
            "display": null,
            "flex": null,
            "flex_flow": null,
            "grid_area": null,
            "grid_auto_columns": null,
            "grid_auto_flow": null,
            "grid_auto_rows": null,
            "grid_column": null,
            "grid_gap": null,
            "grid_row": null,
            "grid_template_areas": null,
            "grid_template_columns": null,
            "grid_template_rows": null,
            "height": null,
            "justify_content": null,
            "justify_items": null,
            "left": null,
            "margin": null,
            "max_height": null,
            "max_width": null,
            "min_height": null,
            "min_width": null,
            "object_fit": null,
            "object_position": null,
            "order": null,
            "overflow": null,
            "overflow_x": null,
            "overflow_y": null,
            "padding": null,
            "right": null,
            "top": null,
            "visibility": null,
            "width": null
          }
        },
        "cb9993a1d4eb434dbe6d879d3943acec": {
          "model_module": "@jupyter-widgets/controls",
          "model_name": "DescriptionStyleModel",
          "model_module_version": "1.5.0",
          "state": {
            "_model_module": "@jupyter-widgets/controls",
            "_model_module_version": "1.5.0",
            "_model_name": "DescriptionStyleModel",
            "_view_count": null,
            "_view_module": "@jupyter-widgets/base",
            "_view_module_version": "1.2.0",
            "_view_name": "StyleView",
            "description_width": ""
          }
        },
        "abc530dcfdde48c5acbdc32b81802ad2": {
          "model_module": "@jupyter-widgets/base",
          "model_name": "LayoutModel",
          "model_module_version": "1.2.0",
          "state": {
            "_model_module": "@jupyter-widgets/base",
            "_model_module_version": "1.2.0",
            "_model_name": "LayoutModel",
            "_view_count": null,
            "_view_module": "@jupyter-widgets/base",
            "_view_module_version": "1.2.0",
            "_view_name": "LayoutView",
            "align_content": null,
            "align_items": null,
            "align_self": null,
            "border": null,
            "bottom": null,
            "display": null,
            "flex": null,
            "flex_flow": null,
            "grid_area": null,
            "grid_auto_columns": null,
            "grid_auto_flow": null,
            "grid_auto_rows": null,
            "grid_column": null,
            "grid_gap": null,
            "grid_row": null,
            "grid_template_areas": null,
            "grid_template_columns": null,
            "grid_template_rows": null,
            "height": null,
            "justify_content": null,
            "justify_items": null,
            "left": null,
            "margin": null,
            "max_height": null,
            "max_width": null,
            "min_height": null,
            "min_width": null,
            "object_fit": null,
            "object_position": null,
            "order": null,
            "overflow": null,
            "overflow_x": null,
            "overflow_y": null,
            "padding": null,
            "right": null,
            "top": null,
            "visibility": null,
            "width": null
          }
        }
      }
    }
  },
  "cells": [
    {
      "cell_type": "markdown",
      "metadata": {
        "id": "view-in-github",
        "colab_type": "text"
      },
      "source": [
        "<a href=\"https://colab.research.google.com/github/ericmc12/capstone3/blob/main/launch.ipynb\" target=\"_parent\"><img src=\"https://colab.research.google.com/assets/colab-badge.svg\" alt=\"Open In Colab\"/></a>"
      ]
    },
    {
      "cell_type": "code",
      "source": [
        "#!pip install -Uqq fastbook\n",
        "#!pip install fastai\n",
        "#!pip install ipywidgets"
      ],
      "metadata": {
        "id": "YREbNFDeoFM6"
      },
      "execution_count": null,
      "outputs": []
    },
    {
      "cell_type": "code",
      "source": [
        "from fastai.vision.all import *\n",
        "from fastai.vision.widgets import *"
      ],
      "metadata": {
        "id": "23Yvr3CnyId3"
      },
      "execution_count": null,
      "outputs": []
    },
    {
      "cell_type": "code",
      "execution_count": null,
      "metadata": {
        "id": "TCgW8dTalhkn"
      },
      "outputs": [],
      "source": [
        "path = Path()\n",
        "learn_inf = load_learner(path/'export (2).pkl')"
      ]
    },
    {
      "cell_type": "code",
      "execution_count": null,
      "metadata": {
        "id": "y1APBcl_6Ahk"
      },
      "outputs": [],
      "source": [
        "\n",
        "btn_upload = widgets.FileUpload()\n",
        "btn_run= widgets.Button(description='Classify')\n",
        "out_pl = widgets.Output()\n",
        "lbl_pred = widgets.Label()\n",
        "\n",
        "def on_click_classify(change):\n",
        "\n",
        "    img=PILImage.create(btn_upload.data[-1])\n",
        "    out_pl.clear_output()\n",
        "    with out_pl: display(img.to_thumb(128,128))\n",
        "    pred,pred_idx,probs=learn_inf.predict(img)\n",
        "    lbl_pred.value= f'prediction= {pred}; Probability: {probs[pred_idx]:.04f}'\n",
        "\n",
        "btn_run.on_click(on_click_classify)"
      ]
    },
    {
      "cell_type": "code",
      "execution_count": null,
      "metadata": {
        "id": "RnR9Oj596UyC",
        "colab": {
          "base_uri": "https://localhost:8080/",
          "height": 217,
          "referenced_widgets": [
            "5c26dfd028684d28808335fe849244e1",
            "ed665b32ac8846da92c9ebc1cf42f926",
            "ee601e0100a7444b8abdaef091e9707f",
            "05d543cafb124ded84dd2caa49841a61",
            "61f03da9598a4261bbde00d3654e0765",
            "da8db27f6ad2420697134621b631ee23",
            "a7c5fe86ef994a559185dcd866118298",
            "0db0feabe41f45c7850950e79d426430",
            "248448e43af14f1a952b8118a78548aa",
            "c180713f51a043caab21401cccbb8d49",
            "a803681227494346b41915633fd058dd",
            "d266f582b8774f61a411975c5d815d84",
            "452f871960de454692b4939945ea6780",
            "407a7bc0ec3e4ff6aa30a6bde965b98c",
            "cb9993a1d4eb434dbe6d879d3943acec",
            "abc530dcfdde48c5acbdc32b81802ad2"
          ]
        },
        "outputId": "0480f91f-0837-4afb-d9f4-4d67cc0be0ab"
      },
      "outputs": [
        {
          "output_type": "display_data",
          "data": {
            "text/plain": [
              "VBox(children=(Label(value='Select Hand Sign'), FileUpload(value={}, description='Upload'), Button(description…"
            ],
            "application/vnd.jupyter.widget-view+json": {
              "version_major": 2,
              "version_minor": 0,
              "model_id": "5c26dfd028684d28808335fe849244e1"
            }
          },
          "metadata": {}
        },
        {
          "output_type": "display_data",
          "data": {
            "text/plain": [
              "<IPython.core.display.HTML object>"
            ],
            "text/html": [
              "\n",
              "<style>\n",
              "    /* Turns off some styling */\n",
              "    progress {\n",
              "        /* gets rid of default border in Firefox and Opera. */\n",
              "        border: none;\n",
              "        /* Needs to be in here for Safari polyfill so background images work as expected. */\n",
              "        background-size: auto;\n",
              "    }\n",
              "    .progress-bar-interrupted, .progress-bar-interrupted::-webkit-progress-bar {\n",
              "        background: #F44336;\n",
              "    }\n",
              "</style>\n"
            ]
          },
          "metadata": {}
        },
        {
          "output_type": "display_data",
          "data": {
            "text/plain": [
              "<IPython.core.display.HTML object>"
            ],
            "text/html": [
              ""
            ]
          },
          "metadata": {}
        },
        {
          "output_type": "display_data",
          "data": {
            "text/plain": [
              "<IPython.core.display.HTML object>"
            ],
            "text/html": [
              "\n",
              "<style>\n",
              "    /* Turns off some styling */\n",
              "    progress {\n",
              "        /* gets rid of default border in Firefox and Opera. */\n",
              "        border: none;\n",
              "        /* Needs to be in here for Safari polyfill so background images work as expected. */\n",
              "        background-size: auto;\n",
              "    }\n",
              "    .progress-bar-interrupted, .progress-bar-interrupted::-webkit-progress-bar {\n",
              "        background: #F44336;\n",
              "    }\n",
              "</style>\n"
            ]
          },
          "metadata": {}
        },
        {
          "output_type": "display_data",
          "data": {
            "text/plain": [
              "<IPython.core.display.HTML object>"
            ],
            "text/html": [
              ""
            ]
          },
          "metadata": {}
        },
        {
          "output_type": "display_data",
          "data": {
            "text/plain": [
              "<IPython.core.display.HTML object>"
            ],
            "text/html": [
              "\n",
              "<style>\n",
              "    /* Turns off some styling */\n",
              "    progress {\n",
              "        /* gets rid of default border in Firefox and Opera. */\n",
              "        border: none;\n",
              "        /* Needs to be in here for Safari polyfill so background images work as expected. */\n",
              "        background-size: auto;\n",
              "    }\n",
              "    .progress-bar-interrupted, .progress-bar-interrupted::-webkit-progress-bar {\n",
              "        background: #F44336;\n",
              "    }\n",
              "</style>\n"
            ]
          },
          "metadata": {}
        },
        {
          "output_type": "display_data",
          "data": {
            "text/plain": [
              "<IPython.core.display.HTML object>"
            ],
            "text/html": [
              ""
            ]
          },
          "metadata": {}
        }
      ],
      "source": [
        "VBox([widgets.Label('Select Hand Sign'),\n",
        "        btn_upload,btn_run,out_pl,lbl_pred])"
      ]
    }
  ]
}